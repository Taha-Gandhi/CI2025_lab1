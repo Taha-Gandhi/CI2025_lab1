{
 "cells": [
  {
   "cell_type": "code",
   "execution_count": 90,
   "metadata": {},
   "outputs": [],
   "source": [
    "import numpy as np\n",
    "from typing import Tuple"
   ]
  },
  {
   "cell_type": "code",
   "execution_count": 91,
   "metadata": {},
   "outputs": [],
   "source": [
    "NUM_KNAPSACKS = 3\n",
    "NUM_ITEMS = 10\n",
    "NUM_DIMENSIONS = 2"
   ]
  },
  {
   "cell_type": "code",
   "execution_count": 101,
   "metadata": {},
   "outputs": [],
   "source": [
    "VALUES = np.random.randint(0, 100, size=NUM_ITEMS)\n",
    "WEIGHTS = np.random.randint(0, 100, size=(NUM_ITEMS, NUM_DIMENSIONS)) # means the array is of 10 rows and 2 columns (bcz  10 num of items and 2 dimensions) with random integers between 0 and 100\n",
    "CONSTRAINTS = np.random.randint(0, 100 * NUM_ITEMS // NUM_KNAPSACKS, size=(NUM_KNAPSACKS, NUM_DIMENSIONS)) # means array is of 2 columns with random integer between 0 and 333"
   ]
  },
  {
   "cell_type": "code",
   "execution_count": 102,
   "metadata": {},
   "outputs": [
    {
     "data": {
      "text/plain": [
       "(array([ 0, 43, 56,  5, 47, 70, 25, 85, 79, 70], dtype=int32),\n",
       " array([[44, 13],\n",
       "        [91, 27],\n",
       "        [23, 53],\n",
       "        [13,  3],\n",
       "        [11, 96],\n",
       "        [ 6, 62],\n",
       "        [42, 57],\n",
       "        [96, 70],\n",
       "        [26, 43],\n",
       "        [70, 26]], dtype=int32))"
      ]
     },
     "execution_count": 102,
     "metadata": {},
     "output_type": "execute_result"
    }
   ],
   "source": [
    "VALUES, WEIGHTS"
   ]
  },
  {
   "cell_type": "code",
   "execution_count": 103,
   "metadata": {},
   "outputs": [
    {
     "name": "stdout",
     "output_type": "stream",
     "text": [
      "Knapsack capacities (Constraints): \n",
      "[[226 287]\n",
      " [249  45]\n",
      " [164 265]]\n"
     ]
    }
   ],
   "source": [
    "print(f\"Knapsack capacities (Constraints): \\n{CONSTRAINTS}\")"
   ]
  },
  {
   "cell_type": "code",
   "execution_count": 128,
   "metadata": {},
   "outputs": [
    {
     "name": "stdout",
     "output_type": "stream",
     "text": [
      "--- Sequential Multiple Knapsack Solution with Assignments ---\n",
      "Item Values: [ 89 773 654 ... 819 678 498]\n",
      "Weights (Dim 0): [[197  33 627 ... 319 937 293]\n",
      " [550 543 242 ... 942 568 950]\n",
      " [436 411 836 ... 664 169 846]\n",
      " ...\n",
      " [869 582 968 ... 567 291 288]\n",
      " [ 97 220 662 ... 171 310 833]\n",
      " [656  51 146 ... 286 725 372]]\n",
      "Capacities (Dim 0): [[79834 52005 17527 ... 78500 56643 69915]\n",
      " [95067 28572 45458 ... 50816 83737 88901]\n",
      " [46612 36250 19604 ... 98589 28135 27193]\n",
      " ...\n",
      " [69672 90152 96973 ... 43906 41364 99258]\n",
      " [60364 83491 71527 ... 33636 13114 12777]\n",
      " [49805 58803 31629 ... 83824 73369 10897]]\n",
      "\n",
      "\n",
      "--- Final Results ---\n",
      "Total Max Value Across All Knapsacks: 1813475.00\n",
      "\n"
     ]
    }
   ],
   "source": [
    "def solve_multidimensional_multiple_knapsack_greedy_optimized(\n",
    "    weights_matrix: np.ndarray, \n",
    "    values: np.ndarray, \n",
    "    constraints_matrix: np.ndarray\n",
    ") -> Tuple[float, np.ndarray]:\n",
    "    \"\"\"\n",
    "    Optimized Greedy Heuristic for the Multidimensional Multiple Knapsack Problem (MMKP).\n",
    "    \n",
    "    Rule: Sort by Value/AverageWeight. Assign to the knapsack that maximizes \n",
    "          the total remaining capacity across all dimensions.\n",
    "    \"\"\"\n",
    "    \n",
    "    NUM_ITEMS = len(values)\n",
    "    NUM_KNAPSACKS, NUM_DIMENSIONS = constraints_matrix.shape\n",
    "    \n",
    "    # 1. Prepare Data and Calculate Ratio\n",
    "    item_weights = weights_matrix.astype(int)\n",
    "    item_values = values.astype(float)\n",
    "    \n",
    "    # Use the average of all dimensions for the greedy ratio calculation.\n",
    "    avg_weights = np.mean(item_weights, axis=1)\n",
    "    \n",
    "    ratios = np.divide(item_values, avg_weights, \n",
    "                       out=np.full_like(item_values, np.finfo(float).max, dtype=float), \n",
    "                       where=avg_weights != 0)\n",
    "    \n",
    "    # 2. Sort Items by Ratio (Descending Order)\n",
    "    sorted_indices = np.argsort(ratios)[::-1]\n",
    "    \n",
    "    # 3. Initialize Tracking Variables\n",
    "    current_capacities = constraints_matrix.copy().astype(float) \n",
    "    assignment_matrix = np.full((NUM_KNAPSACKS, NUM_ITEMS), False, dtype=bool)\n",
    "    total_max_value = 0.0\n",
    "    \n",
    "    # 4. Greedy Assignment Loop\n",
    "    for item_idx in sorted_indices:\n",
    "        w_vec = item_weights[item_idx] # The weight vector for the current item\n",
    "        v = item_values[item_idx]\n",
    "        \n",
    "        best_knapsack = -1\n",
    "        max_remaining_capacity_sum = -1 # Used to find the best knapsack\n",
    "        \n",
    "        # Iterate over all knapsacks to find the best fit\n",
    "        for j in range(NUM_KNAPSACKS):\n",
    "            \n",
    "            # 4a. Check Feasibility: Item must fit in ALL dimensions (The core MMKP check)\n",
    "            if np.all(w_vec <= current_capacities[j]):\n",
    "                \n",
    "                # 4b. Greedy Tie-breaker Rule: Find the knapsack that leaves the most\n",
    "                #     total remaining space across all dimensions after placing the item.\n",
    "                \n",
    "                remaining_capacity_vec = current_capacities[j] - w_vec\n",
    "                \n",
    "                # Sum the remaining capacity across all dimensions for this knapsack\n",
    "                remaining_capacity_sum = np.sum(remaining_capacity_vec)\n",
    "                \n",
    "                if remaining_capacity_sum > max_remaining_capacity_sum:\n",
    "                    max_remaining_capacity_sum = remaining_capacity_sum\n",
    "                    best_knapsack = j\n",
    "        \n",
    "        # 5. Assign Item and Update State\n",
    "        if best_knapsack != -1:\n",
    "            # Assign the item to the best knapsack found\n",
    "            assignment_matrix[best_knapsack, item_idx] = True\n",
    "            \n",
    "            # Subtract the weight vector from the capacity vector for that knapsack\n",
    "            current_capacities[best_knapsack] -= w_vec\n",
    "            total_max_value += v\n",
    "            \n",
    "    return total_max_value, assignment_matrix\n",
    "\n",
    "print(\"--- Sequential Multiple Knapsack Solution with Assignments ---\")\n",
    "print(f\"Item Values: {VALUES}\")\n",
    "print(f\"Weights (Dim 0): {WEIGHTS}\")\n",
    "print(f\"Capacities (Dim 0): {CONSTRAINTS}\\n\")\n",
    "\n",
    "final_value, assignments = solve_multidimensional_multiple_knapsack_greedy_optimized(\n",
    "    WEIGHTS, VALUES, CONSTRAINTS\n",
    ")\n",
    "\n",
    "print(\"\\n--- Final Results ---\")\n",
    "print(f\"Total Max Value Across All Knapsacks: {final_value:.2f}\\n\")"
   ]
  },
  {
   "cell_type": "code",
   "execution_count": 129,
   "metadata": {},
   "outputs": [
    {
     "name": "stdout",
     "output_type": "stream",
     "text": [
      "Item Assignment Matrix (Rows = Knapsacks, Columns = Items):\n",
      "\n"
     ]
    },
    {
     "data": {
      "text/plain": [
       "array([[False, False, False, ..., False, False, False],\n",
       "       [False, False, False, ..., False, False, False],\n",
       "       [False, False, False, ..., False, False, False],\n",
       "       ...,\n",
       "       [False, False, False, ..., False, False, False],\n",
       "       [False, False, False, ..., False, False, False],\n",
       "       [False, False, False, ..., False, False, False]], shape=(100, 5000))"
      ]
     },
     "execution_count": 129,
     "metadata": {},
     "output_type": "execute_result"
    }
   ],
   "source": [
    "print(\"Item Assignment Matrix (Rows = Knapsacks, Columns = Items):\\n\")\n",
    "assignments"
   ]
  },
  {
   "cell_type": "code",
   "execution_count": null,
   "metadata": {},
   "outputs": [],
   "source": [
    "# Check that the same object does not appear in multiple knapsacks\n",
    "# this is done in the function itself "
   ]
  },
  {
   "cell_type": "code",
   "execution_count": 131,
   "metadata": {},
   "outputs": [
    {
     "name": "stdout",
     "output_type": "stream",
     "text": [
      "\n",
      "[Valid Solution Check] Result: True, Message: Solution is valid according to exclusivity and capacity constraints.\n"
     ]
    }
   ],
   "source": [
    "# Check if the solution is valid\n",
    "\n",
    "def validate_multiple_knapsack_solution(\n",
    "    solution: np.ndarray, \n",
    "    weights_matrix: np.ndarray, \n",
    "    constraints_matrix: np.ndarray\n",
    ") -> Tuple[bool, str]:\n",
    "    # (The validation function is correct and doesn't need changes)\n",
    "    NUM_KNAPSACKS, NUM_ITEMS = solution.shape\n",
    "    \n",
    "    # 1. Item Exclusivity Constraint (Assignment count per item <= 1)\n",
    "    assignment_count_per_item = solution.sum(axis=0)\n",
    "    if np.any(assignment_count_per_item > 1):\n",
    "        overassigned_items = np.where(assignment_count_per_item > 1)[0]\n",
    "        return False, f\"Constraint Violated (Exclusivity): Items {overassigned_items} are assigned more than once.\"\n",
    "    \n",
    "    # 2. Knapsack Capacity Constraint (Load <= Capacity for all K, D)\n",
    "    # Calculation: (K x I) @ (I x D) -> (K x D) load matrix\n",
    "    current_load = solution @ weights_matrix\n",
    "    \n",
    "    capacity_check = current_load <= constraints_matrix\n",
    "    \n",
    "    if not np.all(capacity_check):\n",
    "        violation_indices = np.where(capacity_check == False)\n",
    "        knapsack_viol = violation_indices[0][0]\n",
    "        dimension_viol = violation_indices[1][0]\n",
    "        load = current_load[knapsack_viol, dimension_viol]\n",
    "        cap = constraints_matrix[knapsack_viol, dimension_viol]\n",
    "        \n",
    "        return False, (\n",
    "            f\"Constraint Violated (Capacity): Knapsack {knapsack_viol} (Dim {dimension_viol}) \"\n",
    "            f\"Load ({load}) exceeds Capacity ({cap}).\"\n",
    "        )\n",
    "    \n",
    "    return True, \"Solution is valid according to exclusivity and capacity constraints.\"\n",
    "\n",
    "\n",
    "is_valid_1, msg_1 = validate_multiple_knapsack_solution(assignments, WEIGHTS, CONSTRAINTS)\n",
    "print(f\"\\n[Valid Solution Check] Result: {is_valid_1}, Message: {msg_1}\")\n"
   ]
  },
  {
   "cell_type": "code",
   "execution_count": 117,
   "metadata": {},
   "outputs": [],
   "source": [
    "# Problem 1:\n",
    "rng = np.random.default_rng(seed=42)\n",
    "NUM_KNAPSACKS = 3\n",
    "NUM_ITEMS = 20\n",
    "NUM_DIMENSIONS = 2\n",
    "VALUES = rng.integers(0, 100, size=NUM_ITEMS)\n",
    "WEIGHTS = rng.integers(0, 100, size=(NUM_ITEMS, NUM_DIMENSIONS))\n",
    "CONSTRAINTS = rng.integers(0, 100 * NUM_ITEMS // NUM_KNAPSACKS, size=(NUM_KNAPSACKS, NUM_DIMENSIONS))"
   ]
  },
  {
   "cell_type": "code",
   "execution_count": 121,
   "metadata": {},
   "outputs": [],
   "source": [
    "# Problem 2:\n",
    "rng = np.random.default_rng(seed=42)\n",
    "NUM_KNAPSACKS = 10\n",
    "NUM_ITEMS = 100\n",
    "NUM_DIMENSIONS = 10\n",
    "VALUES = rng.integers(0, 1000, size=NUM_ITEMS)\n",
    "WEIGHTS = rng.integers(0, 1000, size=(NUM_ITEMS, NUM_DIMENSIONS))\n",
    "CONSTRAINTS = rng.integers(1000 * 2, 1000 * NUM_ITEMS // NUM_KNAPSACKS, size=(NUM_KNAPSACKS, NUM_DIMENSIONS))"
   ]
  },
  {
   "cell_type": "code",
   "execution_count": 126,
   "metadata": {},
   "outputs": [],
   "source": [
    "# Problem 3:\n",
    "rng = np.random.default_rng(seed=42)\n",
    "NUM_KNAPSACKS = 100\n",
    "NUM_ITEMS = 5000\n",
    "NUM_DIMENSIONS = 100\n",
    "VALUES = rng.integers(0, 1000, size=NUM_ITEMS)\n",
    "WEIGHTS = rng.integers(0, 1000, size=(NUM_ITEMS, NUM_DIMENSIONS))\n",
    "CONSTRAINTS = rng.integers(1000 * 10, 1000 * 2 * NUM_ITEMS // NUM_KNAPSACKS, size=(NUM_KNAPSACKS, NUM_DIMENSIONS))"
   ]
  }
 ],
 "metadata": {
  "kernelspec": {
   "display_name": "Python 3",
   "language": "python",
   "name": "python3"
  },
  "language_info": {
   "codemirror_mode": {
    "name": "ipython",
    "version": 3
   },
   "file_extension": ".py",
   "mimetype": "text/x-python",
   "name": "python",
   "nbconvert_exporter": "python",
   "pygments_lexer": "ipython3",
   "version": "3.12.0"
  }
 },
 "nbformat": 4,
 "nbformat_minor": 2
}
